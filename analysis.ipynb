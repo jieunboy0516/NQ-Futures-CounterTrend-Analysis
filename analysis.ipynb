{
 "cells": [
  {
   "cell_type": "code",
   "execution_count": 94,
   "metadata": {},
   "outputs": [
    {
     "name": "stdout",
     "output_type": "stream",
     "text": [
      "{'NQZ3', 'NQU3-NQH4', 'NQH1-NQM1', 'NQM2-NQZ2', 'NQZ1-NQH2', 'NQU2', 'NQZ3-NQU4', 'NQM4', 'NQH9-NQZ9', 'NQU1-NQZ1', 'NQH2-NQZ2', 'NQM3-NQZ3', 'NQU9-NQH0', 'NQU3', 'NQM4-NQH5', 'NQH4-NQM4', 'NQH3-NQM3', 'NQH4', 'NQM2-NQU2', 'NQH2-NQU2', 'NQM0', 'NQH0-NQH1', 'NQU9-NQM0', 'NQZ4', 'NQU2-NQH3', 'NQU0-NQZ0', 'NQH2-NQM2', 'NQU3-NQZ3', 'NQZ0-NQM1', 'NQU1-NQM2', 'NQZ3-NQH4', 'NQH0', 'NQM1', 'NQU1-NQH2', 'NQZ2-NQH3', 'NQH9', 'NQM0-NQH1', 'NQU4', 'NQM4-NQU4', 'NQH1', 'NQM9-NQU9', 'NQZ1-NQU2', 'NQH3-NQZ3', 'NQU2-NQZ2', 'NQU0-NQH1', 'NQH0-NQM0', 'NQH1-NQZ1', 'NQU0', 'NQZ9-NQU0', 'NQM0-NQZ0', 'NQU1', 'NQZ6', 'NQM9-NQH0', 'NQU9', 'NQM3-NQU3', 'NQM4-NQZ4', 'NQM9', 'NQH1-NQU1', 'NQH9-NQM9', 'NQM3', 'NQM0-NQU0', 'NQU9-NQZ9', 'NQU4-NQZ4', 'NQM1-NQZ1', 'NQH3-NQU3', 'NQH0-NQZ0', 'NQM1-NQU1', 'NQZ9-NQM0', 'NQH4-NQU4', 'NQZ3-NQM4', 'NQH9-NQU9', 'NQZ0', 'NQZ9', 'NQZ1-NQZ2', 'NQZ3-NQZ4', 'NQM9-NQZ9', 'NQZ1', 'NQZ2', 'NQZ2-NQM3', 'NQH3', 'NQZ0-NQH1', 'NQH2', 'NQM2', 'NQZ1-NQM2', 'NQH0-NQU0', 'NQZ9-NQH0', 'NQH5', 'NQZ2-NQU3'}\n"
     ]
    }
   ],
   "source": [
    "import pickle\n",
    "import pandas as pd\n",
    "\n",
    "file_paths = [\n",
    "    'data_2019.pkl', \n",
    "    'data_2020.pkl', \n",
    "    'data_2021.pkl', \n",
    "    'data_2022.pkl', \n",
    "    'data_2023.pkl', \n",
    "    'data_2024.pkl'\n",
    "]\n",
    "\n",
    "\n",
    "combined_data = pd.DataFrame()\n",
    "for file_path in file_paths:\n",
    "    try:\n",
    "        with open(file_path, 'rb') as f:\n",
    "            data = pickle.load(f)\n",
    "            combined_data = pd.concat([combined_data, data])\n",
    "    except FileNotFoundError:\n",
    "        print(f\"File not found: {file_path}\")\n",
    "\n",
    "# Get the unique set of symbols\n",
    "unique_symbols = set(combined_data['symbol'])\n",
    "print(unique_symbols)\n",
    "print(len(unique_symbols))\n",
    "#HMUZ\n"
   ]
  },
  {
   "cell_type": "code",
   "execution_count": 97,
   "metadata": {},
   "outputs": [
    {
     "name": "stdout",
     "output_type": "stream",
     "text": [
      "['NQH9', 'NQM9', 'NQU9', 'NQZ9', 'NQH0', 'NQM0', 'NQU0', 'NQZ0', 'NQH1', 'NQM1', 'NQU1', 'NQZ1', 'NQH2', 'NQM2', 'NQU2', 'NQZ2', 'NQH3', 'NQM3', 'NQU3', 'NQZ3', 'NQH4', 'NQM4', 'NQU4', 'NQZ4']\n"
     ]
    }
   ],
   "source": [
    "#filtering the symbols to sort accordingly to years and month code\n",
    "\n",
    "months_order = 'HMUZ'\n",
    "valid_years = ['9', '0', '1', '2', '3', '4']\n",
    "\n",
    "\n",
    "filtered_symbols = []\n",
    "\n",
    "for symbol in unique_symbols:\n",
    "    if '-' not in symbol:  \n",
    "        if len(symbol) == 4:  \n",
    "            month = symbol[2]\n",
    "            year = symbol[3]\n",
    "            if month in months_order and year in valid_years:\n",
    "                filtered_symbols.append(symbol)\n",
    "\n",
    "filtered_symbols.sort(key=lambda x: (valid_years.index(x[3]), months_order.index(x[2])))\n",
    "\n",
    "\n",
    "print(filtered_symbols)\n"
   ]
  },
  {
   "cell_type": "code",
   "execution_count": 98,
   "metadata": {},
   "outputs": [
    {
     "name": "stderr",
     "output_type": "stream",
     "text": [
      "/var/folders/rr/h5yhjlm12cgb4950wj6vzpmr0000gn/T/ipykernel_36766/2881417074.py:45: UserWarning: Converting to PeriodArray/Index representation will drop timezone information.\n",
      "  df['week'] = df.index.to_period('W')\n"
     ]
    },
    {
     "name": "stdout",
     "output_type": "stream",
     "text": [
      "NQH9 first_valid_index:  2019-01-01 18:10:00-05:00\n",
      "NQH9 last_valid_index:  2019-03-14 15:55:00-04:00\n",
      "NQH9 len_before:  110296\n",
      "NQH9 len_after:  70128\n",
      "=====================================\n"
     ]
    },
    {
     "name": "stderr",
     "output_type": "stream",
     "text": [
      "/var/folders/rr/h5yhjlm12cgb4950wj6vzpmr0000gn/T/ipykernel_36766/2881417074.py:45: UserWarning: Converting to PeriodArray/Index representation will drop timezone information.\n",
      "  df['week'] = df.index.to_period('W')\n"
     ]
    },
    {
     "name": "stdout",
     "output_type": "stream",
     "text": [
      "NQM9 first_valid_index:  2019-03-07 08:57:00-05:00\n",
      "NQM9 last_valid_index:  2019-06-20 15:56:00-04:00\n",
      "NQM9 len_before:  110296\n",
      "NQM9 len_after:  101097\n",
      "=====================================\n"
     ]
    },
    {
     "name": "stderr",
     "output_type": "stream",
     "text": [
      "/var/folders/rr/h5yhjlm12cgb4950wj6vzpmr0000gn/T/ipykernel_36766/2881417074.py:45: UserWarning: Converting to PeriodArray/Index representation will drop timezone information.\n",
      "  df['week'] = df.index.to_period('W')\n"
     ]
    },
    {
     "name": "stdout",
     "output_type": "stream",
     "text": [
      "NQU9 first_valid_index:  2019-06-10 10:23:00-04:00\n",
      "NQU9 last_valid_index:  2019-09-19 15:56:00-04:00\n",
      "NQU9 len_before:  110296\n",
      "NQU9 len_after:  98040\n",
      "=====================================\n"
     ]
    },
    {
     "name": "stderr",
     "output_type": "stream",
     "text": [
      "/var/folders/rr/h5yhjlm12cgb4950wj6vzpmr0000gn/T/ipykernel_36766/2881417074.py:45: UserWarning: Converting to PeriodArray/Index representation will drop timezone information.\n",
      "  df['week'] = df.index.to_period('W')\n"
     ]
    },
    {
     "name": "stdout",
     "output_type": "stream",
     "text": [
      "NQZ9 first_valid_index:  2019-08-23 11:09:00-04:00\n",
      "NQZ9 last_valid_index:  2019-12-19 16:00:00-05:00\n",
      "NQZ9 len_before:  110296\n",
      "NQZ9 len_after:  102385\n",
      "=====================================\n"
     ]
    },
    {
     "name": "stderr",
     "output_type": "stream",
     "text": [
      "/var/folders/rr/h5yhjlm12cgb4950wj6vzpmr0000gn/T/ipykernel_36766/2881417074.py:45: UserWarning: Converting to PeriodArray/Index representation will drop timezone information.\n",
      "  df['week'] = df.index.to_period('W')\n"
     ]
    },
    {
     "name": "stdout",
     "output_type": "stream",
     "text": [
      "NQH0 first_valid_index:  2019-12-09 09:40:00-05:00\n",
      "NQH0 last_valid_index:  2020-03-20 03:49:00-04:00\n",
      "NQH0 len_before:  110296\n",
      "NQH0 len_after:  92921\n",
      "=====================================\n"
     ]
    },
    {
     "name": "stderr",
     "output_type": "stream",
     "text": [
      "/var/folders/rr/h5yhjlm12cgb4950wj6vzpmr0000gn/T/ipykernel_36766/2881417074.py:45: UserWarning: Converting to PeriodArray/Index representation will drop timezone information.\n",
      "  df['week'] = df.index.to_period('W')\n"
     ]
    },
    {
     "name": "stdout",
     "output_type": "stream",
     "text": [
      "NQM0 first_valid_index:  2020-03-03 10:10:00-05:00\n",
      "NQM0 last_valid_index:  2020-06-18 15:53:00-04:00\n",
      "NQM0 len_before:  110296\n",
      "NQM0 len_after:  98464\n",
      "=====================================\n"
     ]
    },
    {
     "name": "stderr",
     "output_type": "stream",
     "text": [
      "/var/folders/rr/h5yhjlm12cgb4950wj6vzpmr0000gn/T/ipykernel_36766/2881417074.py:45: UserWarning: Converting to PeriodArray/Index representation will drop timezone information.\n",
      "  df['week'] = df.index.to_period('W')\n"
     ]
    },
    {
     "name": "stdout",
     "output_type": "stream",
     "text": [
      "NQU0 first_valid_index:  2020-06-08 09:38:00-04:00\n",
      "NQU0 last_valid_index:  2020-09-17 16:01:00-04:00\n",
      "NQU0 len_before:  110296\n",
      "NQU0 len_after:  98218\n",
      "=====================================\n"
     ]
    },
    {
     "name": "stderr",
     "output_type": "stream",
     "text": [
      "/var/folders/rr/h5yhjlm12cgb4950wj6vzpmr0000gn/T/ipykernel_36766/2881417074.py:45: UserWarning: Converting to PeriodArray/Index representation will drop timezone information.\n",
      "  df['week'] = df.index.to_period('W')\n"
     ]
    },
    {
     "name": "stdout",
     "output_type": "stream",
     "text": [
      "NQZ0 first_valid_index:  2020-09-02 10:02:00-04:00\n",
      "NQZ0 last_valid_index:  2020-12-17 15:55:00-05:00\n",
      "NQZ0 len_before:  110296\n",
      "NQZ0 len_after:  101316\n",
      "=====================================\n"
     ]
    },
    {
     "name": "stderr",
     "output_type": "stream",
     "text": [
      "/var/folders/rr/h5yhjlm12cgb4950wj6vzpmr0000gn/T/ipykernel_36766/2881417074.py:45: UserWarning: Converting to PeriodArray/Index representation will drop timezone information.\n",
      "  df['week'] = df.index.to_period('W')\n",
      "/var/folders/rr/h5yhjlm12cgb4950wj6vzpmr0000gn/T/ipykernel_36766/2881417074.py:45: UserWarning: Converting to PeriodArray/Index representation will drop timezone information.\n",
      "  df['week'] = df.index.to_period('W')\n"
     ]
    },
    {
     "name": "stdout",
     "output_type": "stream",
     "text": [
      "NQH1 first_valid_index:  2020-12-08 07:07:00-05:00\n",
      "NQH1 last_valid_index:  2021-03-18 15:59:00-04:00\n",
      "NQH1 len_before:  110296\n",
      "NQH1 len_after:  94729\n",
      "=====================================\n",
      "NQM1 first_valid_index:  2020-10-12 15:33:00-04:00\n",
      "NQM1 last_valid_index:  2021-06-18 08:16:00-04:00\n",
      "NQM1 len_before:  110296\n",
      "NQM1 len_after:  113330\n",
      "=====================================\n"
     ]
    },
    {
     "name": "stderr",
     "output_type": "stream",
     "text": [
      "/var/folders/rr/h5yhjlm12cgb4950wj6vzpmr0000gn/T/ipykernel_36766/2881417074.py:45: UserWarning: Converting to PeriodArray/Index representation will drop timezone information.\n",
      "  df['week'] = df.index.to_period('W')\n"
     ]
    },
    {
     "name": "stdout",
     "output_type": "stream",
     "text": [
      "NQU1 first_valid_index:  2021-06-09 09:40:00-04:00\n",
      "NQU1 last_valid_index:  2021-09-16 15:58:00-04:00\n",
      "NQU1 len_before:  110296\n",
      "NQU1 len_after:  97449\n",
      "=====================================\n"
     ]
    },
    {
     "name": "stderr",
     "output_type": "stream",
     "text": [
      "/var/folders/rr/h5yhjlm12cgb4950wj6vzpmr0000gn/T/ipykernel_36766/2881417074.py:45: UserWarning: Converting to PeriodArray/Index representation will drop timezone information.\n",
      "  df['week'] = df.index.to_period('W')\n"
     ]
    },
    {
     "name": "stdout",
     "output_type": "stream",
     "text": [
      "NQZ1 first_valid_index:  2021-09-08 09:40:00-04:00\n",
      "NQZ1 last_valid_index:  2021-12-16 16:05:00-05:00\n",
      "NQZ1 len_before:  110296\n",
      "NQZ1 len_after:  97629\n",
      "=====================================\n"
     ]
    },
    {
     "name": "stderr",
     "output_type": "stream",
     "text": [
      "/var/folders/rr/h5yhjlm12cgb4950wj6vzpmr0000gn/T/ipykernel_36766/2881417074.py:45: UserWarning: Converting to PeriodArray/Index representation will drop timezone information.\n",
      "  df['week'] = df.index.to_period('W')\n"
     ]
    },
    {
     "name": "stdout",
     "output_type": "stream",
     "text": [
      "NQH2 first_valid_index:  2021-12-02 09:53:00-05:00\n",
      "NQH2 last_valid_index:  2022-03-17 16:04:00-04:00\n",
      "NQH2 len_before:  110296\n",
      "NQH2 len_after:  100300\n",
      "=====================================\n"
     ]
    },
    {
     "name": "stderr",
     "output_type": "stream",
     "text": [
      "/var/folders/rr/h5yhjlm12cgb4950wj6vzpmr0000gn/T/ipykernel_36766/2881417074.py:45: UserWarning: Converting to PeriodArray/Index representation will drop timezone information.\n",
      "  df['week'] = df.index.to_period('W')\n"
     ]
    },
    {
     "name": "stdout",
     "output_type": "stream",
     "text": [
      "NQM2 first_valid_index:  2022-02-24 15:41:00-05:00\n",
      "NQM2 last_valid_index:  2022-06-17 08:49:00-04:00\n",
      "NQM2 len_before:  110296\n",
      "NQM2 len_after:  103404\n",
      "=====================================\n"
     ]
    },
    {
     "name": "stderr",
     "output_type": "stream",
     "text": [
      "/var/folders/rr/h5yhjlm12cgb4950wj6vzpmr0000gn/T/ipykernel_36766/2881417074.py:45: UserWarning: Converting to PeriodArray/Index representation will drop timezone information.\n",
      "  df['week'] = df.index.to_period('W')\n"
     ]
    },
    {
     "name": "stdout",
     "output_type": "stream",
     "text": [
      "NQU2 first_valid_index:  2022-05-27 08:47:00-04:00\n",
      "NQU2 last_valid_index:  2022-09-15 18:02:00-04:00\n",
      "NQU2 len_before:  110296\n",
      "NQU2 len_after:  101634\n",
      "=====================================\n"
     ]
    },
    {
     "name": "stderr",
     "output_type": "stream",
     "text": [
      "/var/folders/rr/h5yhjlm12cgb4950wj6vzpmr0000gn/T/ipykernel_36766/2881417074.py:45: UserWarning: Converting to PeriodArray/Index representation will drop timezone information.\n",
      "  df['week'] = df.index.to_period('W')\n"
     ]
    },
    {
     "name": "stdout",
     "output_type": "stream",
     "text": [
      "NQZ2 first_valid_index:  2022-09-06 09:40:00-04:00\n",
      "NQZ2 last_valid_index:  2022-12-15 15:57:00-05:00\n",
      "NQZ2 len_before:  110296\n",
      "NQZ2 len_after:  98382\n",
      "=====================================\n"
     ]
    },
    {
     "name": "stderr",
     "output_type": "stream",
     "text": [
      "/var/folders/rr/h5yhjlm12cgb4950wj6vzpmr0000gn/T/ipykernel_36766/2881417074.py:45: UserWarning: Converting to PeriodArray/Index representation will drop timezone information.\n",
      "  df['week'] = df.index.to_period('W')\n"
     ]
    },
    {
     "name": "stdout",
     "output_type": "stream",
     "text": [
      "NQH3 first_valid_index:  2022-11-29 11:34:00-05:00\n",
      "NQH3 last_valid_index:  2023-03-16 15:55:00-04:00\n",
      "NQH3 len_before:  110296\n",
      "NQH3 len_after:  98947\n",
      "=====================================\n"
     ]
    },
    {
     "name": "stderr",
     "output_type": "stream",
     "text": [
      "/var/folders/rr/h5yhjlm12cgb4950wj6vzpmr0000gn/T/ipykernel_36766/2881417074.py:45: UserWarning: Converting to PeriodArray/Index representation will drop timezone information.\n",
      "  df['week'] = df.index.to_period('W')\n"
     ]
    },
    {
     "name": "stdout",
     "output_type": "stream",
     "text": [
      "NQM3 first_valid_index:  2023-03-07 09:32:00-05:00\n",
      "NQM3 last_valid_index:  2023-06-16 09:19:00-04:00\n",
      "NQM3 len_before:  110296\n",
      "NQM3 len_after:  98947\n",
      "=====================================\n"
     ]
    },
    {
     "name": "stderr",
     "output_type": "stream",
     "text": [
      "/var/folders/rr/h5yhjlm12cgb4950wj6vzpmr0000gn/T/ipykernel_36766/2881417074.py:45: UserWarning: Converting to PeriodArray/Index representation will drop timezone information.\n",
      "  df['week'] = df.index.to_period('W')\n"
     ]
    },
    {
     "name": "stdout",
     "output_type": "stream",
     "text": [
      "NQU3 first_valid_index:  2023-06-05 09:40:00-04:00\n",
      "NQU3 last_valid_index:  2023-09-14 15:55:00-04:00\n",
      "NQU3 len_before:  110296\n",
      "NQU3 len_after:  98231\n",
      "=====================================\n"
     ]
    },
    {
     "name": "stderr",
     "output_type": "stream",
     "text": [
      "/var/folders/rr/h5yhjlm12cgb4950wj6vzpmr0000gn/T/ipykernel_36766/2881417074.py:45: UserWarning: Converting to PeriodArray/Index representation will drop timezone information.\n",
      "  df['week'] = df.index.to_period('W')\n"
     ]
    },
    {
     "name": "stdout",
     "output_type": "stream",
     "text": [
      "NQZ3 first_valid_index:  2023-09-05 09:40:00-04:00\n",
      "NQZ3 last_valid_index:  2023-12-15 09:19:00-05:00\n",
      "NQZ3 len_before:  110296\n",
      "NQZ3 len_after:  100904\n",
      "=====================================\n"
     ]
    },
    {
     "name": "stderr",
     "output_type": "stream",
     "text": [
      "/var/folders/rr/h5yhjlm12cgb4950wj6vzpmr0000gn/T/ipykernel_36766/2881417074.py:45: UserWarning: Converting to PeriodArray/Index representation will drop timezone information.\n",
      "  df['week'] = df.index.to_period('W')\n"
     ]
    },
    {
     "name": "stdout",
     "output_type": "stream",
     "text": [
      "NQH4 first_valid_index:  2023-11-29 09:40:00-05:00\n",
      "NQH4 last_valid_index:  2024-03-15 09:19:00-04:00\n",
      "NQH4 len_before:  110296\n",
      "NQH4 len_after:  98210\n",
      "=====================================\n"
     ]
    },
    {
     "name": "stderr",
     "output_type": "stream",
     "text": [
      "/var/folders/rr/h5yhjlm12cgb4950wj6vzpmr0000gn/T/ipykernel_36766/2881417074.py:45: UserWarning: Converting to PeriodArray/Index representation will drop timezone information.\n",
      "  df['week'] = df.index.to_period('W')\n"
     ]
    },
    {
     "name": "stdout",
     "output_type": "stream",
     "text": [
      "NQM4 first_valid_index:  2024-03-05 09:40:00-05:00\n",
      "NQM4 last_valid_index:  2024-06-02 19:49:00-04:00\n",
      "NQM4 len_before:  110296\n",
      "NQM4 len_after:  84753\n",
      "=====================================\n"
     ]
    },
    {
     "name": "stderr",
     "output_type": "stream",
     "text": [
      "/var/folders/rr/h5yhjlm12cgb4950wj6vzpmr0000gn/T/ipykernel_36766/2881417074.py:45: UserWarning: Converting to PeriodArray/Index representation will drop timezone information.\n",
      "  df['week'] = df.index.to_period('W')\n",
      "/var/folders/rr/h5yhjlm12cgb4950wj6vzpmr0000gn/T/ipykernel_36766/2881417074.py:45: UserWarning: Converting to PeriodArray/Index representation will drop timezone information.\n",
      "  df['week'] = df.index.to_period('W')\n"
     ]
    },
    {
     "name": "stdout",
     "output_type": "stream",
     "text": [
      "NQU4 first_valid_index:  None\n",
      "NQU4 last_valid_index:  None\n",
      "NQU4 len_before:  110296\n",
      "NQU4 len_after:  14364\n",
      "=====================================\n",
      "NQZ4 first_valid_index:  None\n",
      "NQZ4 last_valid_index:  None\n",
      "NQZ4 len_before:  110296\n",
      "NQZ4 len_after:  772\n",
      "=====================================\n"
     ]
    }
   ],
   "source": [
    "import pickle\n",
    "import pandas as pd\n",
    "\n",
    "\n",
    "\n",
    "\n",
    "combined_data.index = pd.to_datetime(combined_data.index)\n",
    "\n",
    "\n",
    "combined_data.index = combined_data.index.tz_convert('UTC').tz_convert('America/New_York')\n",
    "\n",
    "\n",
    "filtered_data = {symbol: combined_data[combined_data['symbol'] == symbol].sort_index() for symbol in filtered_symbols}\n",
    "\n",
    "def find_first_entry_with_consecutive_volume(data, volume_threshold, consecutive_entries):\n",
    "    for i in range(consecutive_entries, len(data)):\n",
    "        if all(data['volume'][i-consecutive_entries:i] > volume_threshold):\n",
    "            return data.index[i]\n",
    "    return None\n",
    "\n",
    "def find_last_entry_with_consecutive_volume(data, volume_threshold, consecutive_entries):\n",
    "    for i in range(len(data) - consecutive_entries - 1, -1, -1):\n",
    "        if all(data['volume'][i+1:i+consecutive_entries+1] > volume_threshold):\n",
    "            return data.index[i]\n",
    "    return None\n",
    "\n",
    "\n",
    "\n",
    "\n",
    "for symbol, df in filtered_data.items():\n",
    "\n",
    "    first_valid_index = find_first_entry_with_consecutive_volume(df, 10, 10)\n",
    "    if first_valid_index is not None:\n",
    "        df = df.loc[first_valid_index:]\n",
    "    \n",
    "\n",
    "    last_valid_index = find_last_entry_with_consecutive_volume(df, 10, 10)\n",
    "    if last_valid_index is not None:\n",
    "        df = df.loc[:last_valid_index]\n",
    "    \n",
    "\n",
    "    df['week'] = df.index.to_period('W')\n",
    "    \n",
    "\n",
    "    filtered_data[symbol] = df\n",
    "    \n",
    "\n",
    "    print(f\"{symbol} first_valid_index: \", first_valid_index)\n",
    "    print(f\"{symbol} last_valid_index: \", last_valid_index)\n",
    "    print(f\"{symbol} len_before: \", len_before)\n",
    "    print(f\"{symbol} len_after: \", len(df))\n",
    "    print(\"=====================================\")\n",
    "\n"
   ]
  },
  {
   "cell_type": "code",
   "execution_count": 99,
   "metadata": {},
   "outputs": [
    {
     "name": "stdout",
     "output_type": "stream",
     "text": [
      "Saved NQH9 data to futuresCSV/NQH9.csv\n",
      "Saved NQM9 data to futuresCSV/NQM9.csv\n",
      "Saved NQU9 data to futuresCSV/NQU9.csv\n",
      "Saved NQZ9 data to futuresCSV/NQZ9.csv\n",
      "Saved NQH0 data to futuresCSV/NQH0.csv\n",
      "Saved NQM0 data to futuresCSV/NQM0.csv\n",
      "Saved NQU0 data to futuresCSV/NQU0.csv\n",
      "Saved NQZ0 data to futuresCSV/NQZ0.csv\n",
      "Saved NQH1 data to futuresCSV/NQH1.csv\n",
      "Saved NQM1 data to futuresCSV/NQM1.csv\n",
      "Saved NQU1 data to futuresCSV/NQU1.csv\n",
      "Saved NQZ1 data to futuresCSV/NQZ1.csv\n",
      "Saved NQH2 data to futuresCSV/NQH2.csv\n",
      "Saved NQM2 data to futuresCSV/NQM2.csv\n",
      "Saved NQU2 data to futuresCSV/NQU2.csv\n",
      "Saved NQZ2 data to futuresCSV/NQZ2.csv\n",
      "Saved NQH3 data to futuresCSV/NQH3.csv\n",
      "Saved NQM3 data to futuresCSV/NQM3.csv\n",
      "Saved NQU3 data to futuresCSV/NQU3.csv\n",
      "Saved NQZ3 data to futuresCSV/NQZ3.csv\n",
      "Saved NQH4 data to futuresCSV/NQH4.csv\n",
      "Saved NQM4 data to futuresCSV/NQM4.csv\n",
      "Saved NQU4 data to futuresCSV/NQU4.csv\n",
      "Saved NQZ4 data to futuresCSV/NQZ4.csv\n"
     ]
    }
   ],
   "source": [
    "import os\n",
    "\n",
    "\n",
    "output_folder = 'futuresCSV'\n",
    "os.makedirs(output_folder, exist_ok=True)\n",
    "\n",
    "for symbol, df in filtered_data.items():\n",
    "    csv_file_path = os.path.join(output_folder, f'{symbol}.csv')\n",
    "    df.to_csv(csv_file_path)\n",
    "    print(f\"Saved {symbol} data to {csv_file_path}\")"
   ]
  },
  {
   "cell_type": "code",
   "execution_count": 106,
   "metadata": {},
   "outputs": [
    {
     "name": "stdout",
     "output_type": "stream",
     "text": [
      "Global CountertrendHL:\n",
      " {'Monday': 166, 'Tuesday': 67, 'Wednesday': 52, 'Thursday': 33, 'Friday': 15, 'Saturday': 0, 'Sunday': 0}\n"
     ]
    }
   ],
   "source": [
    "# Initialize global countertrendHL dictionary\n",
    "countertrendHL = {\n",
    "    \"Monday\": 0,\n",
    "    \"Tuesday\": 0,\n",
    "    \"Wednesday\": 0,\n",
    "    \"Thursday\": 0,\n",
    "    \"Friday\": 0,\n",
    "    \"Saturday\": 0,\n",
    "    \"Sunday\": 0\n",
    "}\n",
    "\n",
    "for symbol, df in filtered_data.items():\n",
    "    \n",
    "    week_trends = []\n",
    "\n",
    "    for week, group in df.groupby('week'):\n",
    "\n",
    "        highest_high_day = group[group['high'] == group['high'].max()]\n",
    "        lowest_low_day = group[group['low'] == group['low'].min()]\n",
    "\n",
    "        monday_indexes = group.index[group.index.weekday == 0]\n",
    "\n",
    "        monday_open = group.loc[monday_indexes, 'open'].iloc[0] if not monday_indexes.empty else None\n",
    "        sunday_close = group.loc[group.index.weekday == 6, 'close'].iloc[-1] if not group.loc[group.index.weekday == 6].empty else None\n",
    "\n",
    "        if monday_open is not None and sunday_close is not None:\n",
    "            trend = 'Bullish' if sunday_close > monday_open else 'Bearish'\n",
    "        else:\n",
    "            trend = 'Incomplete Data'\n",
    "\n",
    "        if trend == 'Bullish':\n",
    "            day_with_lowest_low = lowest_low_day.index[0].strftime('%A')\n",
    "            countertrendHL[day_with_lowest_low] += 1\n",
    "        elif trend == 'Bearish':\n",
    "            day_with_highest_high = highest_high_day.index[0].strftime('%A')\n",
    "            countertrendHL[day_with_highest_high] += 1\n",
    "\n",
    "\n",
    "        week_trends.append((week, trend))\n",
    "\n",
    "\n",
    "\n",
    "\n",
    "print(\"Global CountertrendHL:\\n\", countertrendHL)\n"
   ]
  },
  {
   "cell_type": "code",
   "execution_count": 109,
   "metadata": {},
   "outputs": [
    {
     "data": {
      "image/png": "[encoded data removed]",
      "text/plain": [
       "<Figure size 1200x800 with 1 Axes>"
      ]
     },
     "metadata": {},
     "output_type": "display_data"
    }
   ],
   "source": [
    "import matplotlib.pyplot as plt\n",
    "import textwrap\n",
    "\n",
    "\n",
    "textstr = \"Contracts used: \" + \", \".join(filtered_symbols)\n",
    "wrapped_text = \"\\n\".join(textwrap.wrap(textstr, width=100))\n",
    "\n",
    "\n",
    "plt.figure(figsize=(12, 8))\n",
    "plt.bar(countertrendHL.keys(), countertrendHL.values(), color='skyblue')\n",
    "plt.xlabel('Day forming Lowest Low/Highest High in bullish week/bearish week respectively')\n",
    "plt.ylabel('Countertrend Occurrences')\n",
    "plt.title('Countertrend Occurrences by Day of the Week')\n",
    "plt.grid(axis='y', linestyle='--', alpha=0.7)\n",
    "\n",
    "\n",
    "plt.text(0.95, 0.95, wrapped_text, transform=plt.gca().transAxes,\n",
    "         fontsize=12, verticalalignment='top', horizontalalignment='right',\n",
    "         bbox=dict(facecolor='white', alpha=0.5))\n",
    "\n",
    "# Display the plot\n",
    "plt.show()\n"
   ]
  },
  {
   "cell_type": "code",
   "execution_count": null,
   "metadata": {},
   "outputs": [],
   "source": []
  }
 ],
 "metadata": {
  "kernelspec": {
   "display_name": "Python 3",
   "language": "python",
   "name": "python3"
  },
  "language_info": {
   "codemirror_mode": {
    "name": "ipython",
    "version": 3
   },
   "file_extension": ".py",
   "mimetype": "text/x-python",
   "name": "python",
   "nbconvert_exporter": "python",
   "pygments_lexer": "ipython3",
   "version": "3.10.5"
  }
 },
 "nbformat": 4,
 "nbformat_minor": 2
}
